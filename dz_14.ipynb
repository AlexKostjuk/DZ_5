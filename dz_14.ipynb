{
  "nbformat": 4,
  "nbformat_minor": 0,
  "metadata": {
    "colab": {
      "provenance": [],
      "gpuType": "V28",
      "authorship_tag": "ABX9TyNlOcgAXwg/fnQdnMjuRJgx",
      "include_colab_link": true
    },
    "kernelspec": {
      "name": "python3",
      "display_name": "Python 3"
    },
    "language_info": {
      "name": "python"
    },
    "accelerator": "TPU"
  },
  "cells": [
    {
      "cell_type": "markdown",
      "metadata": {
        "id": "view-in-github",
        "colab_type": "text"
      },
      "source": [
        "<a href=\"https://colab.research.google.com/github/AlexKostjuk/DZ_5/blob/master/dz_14.ipynb\" target=\"_parent\"><img src=\"https://colab.research.google.com/assets/colab-badge.svg\" alt=\"Open In Colab\"/></a>"
      ]
    },
    {
      "cell_type": "code",
      "execution_count": 1,
      "metadata": {
        "colab": {
          "base_uri": "https://localhost:8080/"
        },
        "id": "qXCNc8s19-6A",
        "outputId": "582e106d-e51d-455d-e58e-30d1f409aa07"
      },
      "outputs": [
        {
          "output_type": "stream",
          "name": "stdout",
          "text": [
            "Drive already mounted at /content/drive; to attempt to forcibly remount, call drive.mount(\"/content/drive\", force_remount=True).\n"
          ]
        }
      ],
      "source": [
        "from google.colab import drive\n",
        "drive.mount('/content/drive')"
      ]
    },
    {
      "cell_type": "code",
      "source": [
        "import tensorflow as tf\n",
        "from tensorflow.keras import layers, models\n",
        "import numpy as np\n",
        "import matplotlib.pyplot as plt\n",
        "import numpy as np\n",
        "from google.colab import files\n",
        "import kagglehub\n",
        "from tensorflow.keras.utils import to_categorical\n",
        "from tensorflow.keras.datasets import mnist\n",
        "\n"
      ],
      "metadata": {
        "id": "rrlQARkL-dYZ"
      },
      "execution_count": 2,
      "outputs": []
    },
    {
      "cell_type": "code",
      "source": [
        "# Завантаження MNIST без one-hot\n",
        "(x_train, y_train), (x_test, y_test) = tf.keras.datasets.mnist.load_data()"
      ],
      "metadata": {
        "id": "YhcS8M4ICk_G"
      },
      "execution_count": 3,
      "outputs": []
    },
    {
      "cell_type": "code",
      "source": [
        "# Створюємо базову модель EfficientNetV2\n",
        "base_model = tf.keras.applications.EfficientNetV2S(\n",
        "    include_top=True,\n",
        "    weights='imagenet',\n",
        "    input_shape=(384, 384, 3)\n",
        ")\n"
      ],
      "metadata": {
        "id": "Xx7mBdPA-dWt"
      },
      "execution_count": 4,
      "outputs": []
    },
    {
      "cell_type": "code",
      "source": [
        "# Модель із масштабуванням у шарах\n",
        "model = models.Sequential([\n",
        "    layers.Input(shape=(28, 28)),           # Оригінальний розмір MNIST\n",
        "    layers.Reshape((28, 28, 1)),           # Додаємо канал\n",
        "    layers.Resizing(384, 384),             # Масштабування в моделі\n",
        "    layers.Lambda(lambda x: tf.tile(x, [1, 1, 1, 3])),  # Перетворюємо в RGB\n",
        "    layers.Lambda(lambda x: tf.keras.applications.efficientnet_v2.preprocess_input(x)),\n",
        "    base_model,\n",
        "    layers.Dense(512, activation='relu', kernel_initializer='he_normal'),\n",
        "    layers.BatchNormalization(),\n",
        "    layers.Dropout(0.2),\n",
        "    layers.Dense(256, activation='relu', kernel_initializer='he_normal'),\n",
        "    layers.BatchNormalization(),\n",
        "    layers.Dropout(0.2),\n",
        "    layers.Dense(128, activation='relu', kernel_initializer='he_normal'),\n",
        "    layers.BatchNormalization(),\n",
        "    layers.Dropout(0.2),\n",
        "    layers.Dense(10, activation='softmax')\n",
        "])"
      ],
      "metadata": {
        "id": "jTmCw8Ug-dUk"
      },
      "execution_count": 5,
      "outputs": []
    },
    {
      "cell_type": "code",
      "source": [
        "# Компіляція\n",
        "model.compile(\n",
        "    optimizer=tf.keras.optimizers.Adam(learning_rate=1e-3),\n",
        "    loss='sparse_categorical_crossentropy',\n",
        "    metrics=['accuracy']\n",
        ")\n"
      ],
      "metadata": {
        "id": "Naklkjry-dSo"
      },
      "execution_count": 6,
      "outputs": []
    },
    {
      "cell_type": "code",
      "source": [
        "# Early stopping\n",
        "early_stopping = tf.keras.callbacks.EarlyStopping(\n",
        "    monitor='val_accuracy',\n",
        "    patience=2,\n",
        "    restore_best_weights=True\n",
        ")"
      ],
      "metadata": {
        "id": "MP0RoOwL-dQW"
      },
      "execution_count": 7,
      "outputs": []
    },
    {
      "cell_type": "code",
      "source": [
        "# Навчання з меншим batch_size\n",
        "history = model.fit(\n",
        "    x_train, y_train,\n",
        "    epochs=6,\n",
        "    batch_size=128,  # Зменшено для економії пам’яті\n",
        "    validation_data=(x_test, y_test),\n",
        "    callbacks=[early_stopping],\n",
        "    verbose=1\n",
        ")"
      ],
      "metadata": {
        "colab": {
          "base_uri": "https://localhost:8080/"
        },
        "id": "Y5YA8bnX-dN6",
        "outputId": "e68cdd6a-eb1a-4c91-f925-56938003bb0e"
      },
      "execution_count": null,
      "outputs": [
        {
          "output_type": "stream",
          "name": "stdout",
          "text": [
            "Epoch 1/6\n"
          ]
        }
      ]
    },
    {
      "cell_type": "code",
      "source": [
        "# Оцінка та вивід\n",
        "test_loss, test_acc = model.evaluate(x_test, y_test)\n",
        "print(f'\\nТочність на тестовому наборі: {test_acc:.4f}')"
      ],
      "metadata": {
        "id": "WHyza4G8-dLj"
      },
      "execution_count": null,
      "outputs": []
    }
  ]
}